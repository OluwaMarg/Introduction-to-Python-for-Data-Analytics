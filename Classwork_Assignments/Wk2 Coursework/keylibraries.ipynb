{
 "cells": [
  {
   "cell_type": "markdown",
   "metadata": {},
   "source": [
    "# WEEK TWO COURSE WORK AND EXERCISES\n",
    "\n",
    "**Classwork on Scikit Learn**\n",
    "\n",
    "Refere to the example on scikit learn, change `x_index` and `y_index` in the iris dataset and find a combination of two parameters which maximally separate the three classes.\n",
    "\n",
    "## **WEEK 2 PROJECT**\n",
    "\n",
    "**Working with the faces dataset**\n",


    "As previously mentioned in the class, scikit learn offers varieties of preinstalled dataset. Using the Olivetti faces dataset. Take a moment to fetch the data (about 1.4MB), and visualize the faces. You can copy the code below and use it for this data.\n",
    "\n",
    "**N/B** Explore some other Scikit Learn functions and modules that can it the dataset.\n"
   ]
  },
  {
   "cell_type": "code",
   "execution_count": null,
   "metadata": {
    "vscode": {
     "languageId": "plaintext"
    }
   },
   "outputs": [],
   "source": [
    "from sklearn.datasets import fetch_olivetti_faces\n",
    "import numpy as np\n",
    "%matplotlib inline\n",
    "\n",
    "\n",
    "# fetch the faces data\n",
    "faces = fetch_olivetti_faces()\n",
    "\n",
    "\n",
    "np.unique(faces.target)\n",
    "\n",
    "face_images = faces.images\n",
    "face_images.shape\n",
    "\n",
    "\n",
    "# hint: plt.cm.bone is a good colormap for this data\n",
    "# set up the figure\n",
    "fig = plt.figure(figsize=(6, 6))  # figure size in inches\n",
    "fig.subplots_adjust(left=0, right=1, bottom=0, top=1, hspace=0.05, wspace=0.05)\n",
    "\n",
    "# plot the digits: each image is 8x8 pixels\n",
    "for i in range(100):\n",
    "    ax = fig.add_subplot(10, 10, i + 1, xticks=[], yticks=[])\n",
    "    ax.imshow(face_images[i], cmap=plt.cm.bone, interpolation='nearest')\n",
    "    \n",
    "    # label the image with the target value\n",
    "    ax.text(0, 7, str(faces.target[i]))\n",
    "\n"
   ]
  }
 ],
 "metadata": {
  "language_info": {
   "name": "python"
  }
 },
 "nbformat": 4,
 "nbformat_minor": 2
}
