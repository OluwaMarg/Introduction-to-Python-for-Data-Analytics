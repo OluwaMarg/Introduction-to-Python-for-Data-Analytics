{
 "cells": [
  {
   "cell_type": "markdown",
   "metadata": {},
   "source": [
    "# WEEK ONE COURSE WORK AND EXERCISES\n",
    "\n",
    "## **WEEK 1 CLASSWORK**\n",
    "\n",
    "**1.** Create a 1D array with values ranging from 0 to 9.\n",
    "\n",
    "**2.** Convert a 1D array to a 2D array with 2 rows\n",
    "\n",
    "**3.** Extract all odd numbers from an array of 1-10\n",
    "\n",
    "## **WEEK 1 PROJECT**\n",
    "\n",
    "Access the [IRIS DATASET](https://www.kaggle.com/datasets/uciml/iris) and perform the following task:\n",
    "\n",
    "**A. Descriptive Analysis**\n",
    "\n",
    "**1.** What are the basic statistics (mean, median, standard deviation, min, max, etc.) for each feature in the Iris dataset?\n",
    "\n",
    "**2.** How do the feature distributions (sepal length, sepal width, petal length, petal width) look? Can we visualize them using histograms?\n",
    "\n",
    "**3.** What is the distribution of the different species in the dataset? How do we visualize this distribution?\n",
    "\n",
    "\n",
    "**B. Correlation and Relationships**\n",
    "\n",
    "**4.** What is the correlation between different features in the dataset? Can we create a correlation matrix?\n",
    "\n",
    "**5.** Is there a specific pair of features that shows the strongest correlation?\n",
    "\n",
    "**6.** How do the features compare among different species? Can we visualize this using box plots?\n",
    "\n",
    "\n",
    "**C. Hypothesis Testing**\n",
    "\n",
    "**7.** Is there a statistically significant difference in sepal length among the different species?\n",
    "\n",
    "**8.** Can we perform a t-test to compare the means of two species for petal width?\n",
    "Visualization\n",
    "\n",
    "**9.** Can we create a scatter plot matrix to visualize the relationships between all features?\n",
    "\n",
    "**10.** How can we visualize the decision boundaries for the classification of the species using a pair of features?\n",
    "\n",
    "\n",
    "**D. Data Cleaning and Preparation**\n",
    "\n",
    "**11.** Are there any missing values in the dataset? If so, how can we handle them using Pandas?\n",
    "\n",
    "**12.** Are there any outliers present in the dataset? If so, how can we identify and manage them?\n",
    "Advanced Analysis\n",
    "\n",
    "**13.** Can we use Pandas to create a new feature based on existing features (e.g., aspect ratio of the petals)?\n",
    "\n",
    "**14.** How can we group the data by species and calculate the average values for each feature?\n",
    "\n",
    "\n",
    "**E. Classification and Predictions**\n",
    "\n",
    "**15.** Can we split the dataset into training and testing sets using Pandas? How can we prepare it for machine learning?\n",
    "\n",
    "**16.** How can we analyze the feature importance if we decide to use a model like Random Forest for classification?\n",
    "\n",
    "\n",
    "**F. Time Series Analysis** \n",
    "\n",
    "**17.** If we had a time component to the dataset, how would we use Pandas to analyze trends over time? \n",
    "\n",
    "\n",
    "\n",
    "\n",
    "\n"
   ]
  },
  {
   "cell_type": "code",
   "execution_count": 1,
   "metadata": {},
   "outputs": [
    {
     "name": "stdout",
     "output_type": "stream",
     "text": [
      "3\n"
     ]
    }
   ],
   "source": [
    "a = 1+ 2\n",
    "print(a)"
   ]
  },
  {
   "cell_type": "code",
   "execution_count": null,
   "metadata": {},
   "outputs": [],
   "source": []
  }
 ],
 "metadata": {
  "kernelspec": {
   "display_name": "Python [conda env:base] *",
   "language": "python",
   "name": "conda-base-py"
  },
  "language_info": {
   "codemirror_mode": {
    "name": "ipython",
    "version": 3
   },
   "file_extension": ".py",
   "mimetype": "text/x-python",
   "name": "python",
   "nbconvert_exporter": "python",
   "pygments_lexer": "ipython3",
   "version": "3.12.7"
  }
 },
 "nbformat": 4,
 "nbformat_minor": 4
}
